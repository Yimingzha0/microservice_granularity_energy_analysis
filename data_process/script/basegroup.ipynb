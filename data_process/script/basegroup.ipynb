{
 "cells": [
  {
   "cell_type": "code",
   "execution_count": 14,
   "metadata": {
    "collapsed": true,
    "ExecuteTime": {
     "end_time": "2024-07-30T09:59:20.009283Z",
     "start_time": "2024-07-30T09:59:20.004245Z"
    }
   },
   "outputs": [
    {
     "name": "stdout",
     "output_type": "stream",
     "text": [
      "The baseline energy consumption for pet system under coarse-grained powerstat is:\n",
      "Average energy consumption: 314.49 mWh\n",
      "The baseline energy consumption for pet system under med-grained powerstat is:\n",
      "Average energy consumption: 317.61 mWh\n",
      "The baseline energy consumption for pet system under fine-grained powerstat is:\n",
      "Average energy consumption: 321.89 mWh\n",
      "The baseline energy consumption for train system under coarse-grained powerstat is:\n",
      "Average energy consumption: 320.59 mWh\n",
      "The baseline energy consumption for train system under medium-grained powerstat is:\n",
      "Average energy consumption: 340.36 mWh\n",
      "The baseline energy consumption for train system under fine-grained powerstat is:\n",
      "Average energy consumption: 360.21 mWh\n"
     ]
    }
   ],
   "source": [
    "# This file is used to calculate the baseline energy consumption for pet and train systems for different granularity of system.\n",
    "def read_and_process_log(file_path):\n",
    "    with open(file_path, 'r') as file:\n",
    "        lines = file.readlines()\n",
    "\n",
    "    if len(lines) < 120:\n",
    "        raise ValueError(\"The file does not contain enough lines for 10 groups of 12 lines each.\")\n",
    "    groups = []\n",
    "    for i in range(0, 120, 12):\n",
    "        group = lines[i:i+12]\n",
    "        groups.append(group)\n",
    "    sums = []\n",
    "    for group in groups:\n",
    "        sum_last_values = 0\n",
    "        for line in group:\n",
    "            values = line.split()\n",
    "            last_value = float(values[-1])\n",
    "            sum_last_values += last_value\n",
    "        sums.append(sum_last_values)\n",
    "    sum = 0\n",
    "    for i, sum_last_values in enumerate(sums):\n",
    "        sum += sum_last_values\n",
    "    print(f\"Average energy consumption: {sum/10:.2f} mWh\")\n",
    "\n",
    "file_path = '../result_f/pet/coarse/clean_powerstat_20240728_142154.txt'\n",
    "print(\"The baseline energy consumption for pet system under coarse-grained powerstat is:\")\n",
    "read_and_process_log(file_path)\n",
    "file_path = '../result_f/pet/med/cleaned_powerstat_20240728_150504.txt'\n",
    "print(\"The baseline energy consumption for pet system under med-grained powerstat is:\")\n",
    "read_and_process_log(file_path)\n",
    "file_path = '../result_f/pet/fine/clean_powerstat_20240729_084716.txt'\n",
    "print(\"The baseline energy consumption for pet system under fine-grained powerstat is:\")\n",
    "read_and_process_log(file_path)\n",
    "\n",
    "\n",
    "file_path = '../result_f/train/coarse/cleaned_powerstat_20240729_160103.txt'\n",
    "print(\"The baseline energy consumption for train system under coarse-grained powerstat is:\")\n",
    "read_and_process_log(file_path)\n",
    "file_path = '../result_f/train/med/cleaned_powerstat_20240729_124507.txt'\n",
    "print(\"The baseline energy consumption for train system under medium-grained powerstat is:\")\n",
    "read_and_process_log(file_path)\n",
    "file_path = '../result_f/train/fine/cleaned_powerstat_20240729_092632.txt'\n",
    "print(\"The baseline energy consumption for train system under fine-grained powerstat is:\")\n",
    "read_and_process_log(file_path)"
   ]
  },
  {
   "cell_type": "code",
   "execution_count": null,
   "outputs": [],
   "source": [],
   "metadata": {
    "collapsed": false
   }
  }
 ],
 "metadata": {
  "kernelspec": {
   "display_name": "Python 3",
   "language": "python",
   "name": "python3"
  },
  "language_info": {
   "codemirror_mode": {
    "name": "ipython",
    "version": 2
   },
   "file_extension": ".py",
   "mimetype": "text/x-python",
   "name": "python",
   "nbconvert_exporter": "python",
   "pygments_lexer": "ipython2",
   "version": "2.7.6"
  }
 },
 "nbformat": 4,
 "nbformat_minor": 0
}
