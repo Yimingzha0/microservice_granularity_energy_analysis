{
 "cells": [
  {
   "cell_type": "code",
   "execution_count": 4,
   "metadata": {
    "collapsed": true,
    "ExecuteTime": {
     "end_time": "2024-08-05T09:43:41.324802Z",
     "start_time": "2024-08-05T09:43:29.678422Z"
    }
   },
   "outputs": [],
   "source": [
    "import pandas as pd\n",
    "import numpy as np\n",
    "from sklearn.linear_model import LinearRegression\n",
    "from sklearn.metrics import r2_score, mean_squared_error\n",
    "import statsmodels.api as sm"
   ]
  },
  {
   "cell_type": "code",
   "execution_count": 29,
   "outputs": [
    {
     "name": "stderr",
     "output_type": "stream",
     "text": [
      "/var/folders/n3/t4x6rcxd63361_hz54mh10qh0000gn/T/ipykernel_50697/3108939215.py:11: SettingWithCopyWarning: \n",
      "A value is trying to be set on a copy of a slice from a DataFrame.\n",
      "Try using .loc[row_indexer,col_indexer] = value instead\n",
      "\n",
      "See the caveats in the documentation: https://pandas.pydata.org/pandas-docs/stable/user_guide/indexing.html#returning-a-view-versus-a-copy\n",
      "  X_train['isPet'] = 0\n",
      "/var/folders/n3/t4x6rcxd63361_hz54mh10qh0000gn/T/ipykernel_50697/3108939215.py:12: SettingWithCopyWarning: \n",
      "A value is trying to be set on a copy of a slice from a DataFrame.\n",
      "Try using .loc[row_indexer,col_indexer] = value instead\n",
      "\n",
      "See the caveats in the documentation: https://pandas.pydata.org/pandas-docs/stable/user_guide/indexing.html#returning-a-view-versus-a-copy\n",
      "  X_pet['isPet'] = 1\n"
     ]
    }
   ],
   "source": [
    "import pandas as pd\n",
    "\n",
    "df_train = pd.read_csv('train_dataset_with_binary_variables.csv')\n",
    "df_pet = pd.read_csv('pet_dataset_with_binary_variables.csv')\n",
    "\n",
    "X_train = df_train[['is_gran_coarse', 'is_gran_med', 'is_dist_burst', 'is_req_high', 'is_req_med']]\n",
    "y_train = df_train['Average_Latency'].copy()\n",
    "X_pet = df_pet[['is_gran_coarse', 'is_gran_med', 'is_dist_burst', 'is_req_high', 'is_req_med']]\n",
    "y_pet = df_pet['Average_Latency'].copy()\n",
    "\n",
    "X_train['isPet'] = 0\n",
    "X_pet['isPet'] = 1\n",
    "\n",
    "X_combined = pd.concat([X_train, X_pet], ignore_index=True)\n",
    "y_combined = pd.concat([y_train, y_pet], ignore_index=True)\n"
   ],
   "metadata": {
    "collapsed": false,
    "ExecuteTime": {
     "end_time": "2024-08-09T09:33:12.913137Z",
     "start_time": "2024-08-09T09:33:12.906153Z"
    }
   }
  },
  {
   "cell_type": "code",
   "execution_count": 30,
   "outputs": [],
   "source": [
    "model_combined = sm.OLS(y_combined, sm.add_constant(X_combined)).fit()"
   ],
   "metadata": {
    "collapsed": false,
    "ExecuteTime": {
     "end_time": "2024-08-09T09:33:15.671007Z",
     "start_time": "2024-08-09T09:33:15.664953Z"
    }
   }
  },
  {
   "cell_type": "code",
   "execution_count": 31,
   "outputs": [
    {
     "name": "stdout",
     "output_type": "stream",
     "text": [
      "\n",
      "Combined Model Summary:\n",
      "                            OLS Regression Results                            \n",
      "==============================================================================\n",
      "Dep. Variable:        Average_Latency   R-squared:                       0.328\n",
      "Model:                            OLS   Adj. R-squared:                  0.316\n",
      "Method:                 Least Squares   F-statistic:                     28.13\n",
      "Date:                Fri, 09 Aug 2024   Prob (F-statistic):           2.36e-27\n",
      "Time:                        11:33:17   Log-Likelihood:                -1152.4\n",
      "No. Observations:                 353   AIC:                             2319.\n",
      "Df Residuals:                     346   BIC:                             2346.\n",
      "Df Model:                           6                                         \n",
      "Covariance Type:            nonrobust                                         \n",
      "==================================================================================\n",
      "                     coef    std err          t      P>|t|      [0.025      0.975]\n",
      "----------------------------------------------------------------------------------\n",
      "const             18.9313      0.911     20.770      0.000      17.139      20.724\n",
      "is_gran_coarse    -5.8044      0.833     -6.969      0.000      -7.443      -4.166\n",
      "is_gran_med       -5.8974      0.838     -7.035      0.000      -7.546      -4.249\n",
      "is_dist_burst     -2.5936      0.681     -3.808      0.000      -3.933      -1.254\n",
      "is_req_high       -4.7825      0.835     -5.728      0.000      -6.425      -3.140\n",
      "is_req_med        -2.3722      0.838     -2.829      0.005      -4.021      -0.723\n",
      "isPet              5.1426      0.681      7.550      0.000       3.803       6.482\n",
      "==============================================================================\n",
      "Omnibus:                      120.185   Durbin-Watson:                   1.276\n",
      "Prob(Omnibus):                  0.000   Jarque-Bera (JB):              420.676\n",
      "Skew:                           1.495   Prob(JB):                     4.48e-92\n",
      "Kurtosis:                       7.434   Cond. No.                         5.49\n",
      "==============================================================================\n",
      "\n",
      "Notes:\n",
      "[1] Standard Errors assume that the covariance matrix of the errors is correctly specified.\n"
     ]
    }
   ],
   "source": [
    "print(\"\\nCombined Model Summary:\")\n",
    "print(model_combined.summary())"
   ],
   "metadata": {
    "collapsed": false,
    "ExecuteTime": {
     "end_time": "2024-08-09T09:33:17.759825Z",
     "start_time": "2024-08-09T09:33:17.746400Z"
    }
   }
  },
  {
   "cell_type": "code",
   "execution_count": 27,
   "outputs": [
    {
     "name": "stdout",
     "output_type": "stream",
     "text": [
      "Original p-values:\n",
      "0.0000\n",
      "0.0000\n",
      "0.0002\n",
      "0.0000\n",
      "0.0049\n",
      "0.0000\n",
      "Adjusted p-values:\n",
      "Original p-value: 0.0000, Adjusted p-value: 0.0000, Rejected: True\n",
      "Original p-value: 0.0000, Adjusted p-value: 0.0000, Rejected: True\n",
      "Original p-value: 0.0002, Adjusted p-value: 0.0003, Rejected: True\n",
      "Original p-value: 0.0000, Adjusted p-value: 0.0000, Rejected: True\n",
      "Original p-value: 0.0049, Adjusted p-value: 0.0049, Rejected: True\n",
      "Original p-value: 0.0000, Adjusted p-value: 0.0000, Rejected: True\n"
     ]
    }
   ],
   "source": [
    "from statsmodels.stats.multitest import multipletests\n",
    "\n",
    "p_values = model_combined.pvalues[1:]\n",
    "print(\"Original p-values:\")\n",
    "for p in p_values:\n",
    "    print(f\"{p:.4f}\")\n",
    "rejected, p_adjusted, _, _ = multipletests(p_values, alpha=0.05, method='holm')\n",
    "\n",
    "print(\"Adjusted p-values:\")\n",
    "for original, adjusted, is_rejected in zip(p_values, p_adjusted, rejected):\n",
    "    print(f\"Original p-value: {original:.4f}, Adjusted p-value: {adjusted:.4f}, Rejected: {is_rejected}\")"
   ],
   "metadata": {
    "collapsed": false,
    "ExecuteTime": {
     "end_time": "2024-08-07T17:37:39.881913Z",
     "start_time": "2024-08-07T17:37:39.879645Z"
    }
   }
  },
  {
   "cell_type": "code",
   "execution_count": null,
   "outputs": [],
   "source": [],
   "metadata": {
    "collapsed": false
   }
  }
 ],
 "metadata": {
  "kernelspec": {
   "display_name": "Python 3",
   "language": "python",
   "name": "python3"
  },
  "language_info": {
   "codemirror_mode": {
    "name": "ipython",
    "version": 2
   },
   "file_extension": ".py",
   "mimetype": "text/x-python",
   "name": "python",
   "nbconvert_exporter": "python",
   "pygments_lexer": "ipython2",
   "version": "2.7.6"
  }
 },
 "nbformat": 4,
 "nbformat_minor": 0
}
